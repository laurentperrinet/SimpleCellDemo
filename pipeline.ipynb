{
 "metadata": {
  "name": ""
 },
 "nbformat": 3,
 "nbformat_minor": 0,
 "worksheets": [
  {
   "cells": [
    {
     "cell_type": "markdown",
     "metadata": {},
     "source": [
      "What?\n",
      " Here, we draft the pipeline of our demo"
     ]
    },
    {
     "cell_type": "heading",
     "level": 2,
     "metadata": {},
     "source": [
      "Calling the camera using simpleCV"
     ]
    },
    {
     "cell_type": "code",
     "collapsed": false,
     "input": [
      "from SimpleCV import Camera, Display"
     ],
     "language": "python",
     "metadata": {},
     "outputs": [],
     "prompt_number": 1
    },
    {
     "cell_type": "code",
     "collapsed": false,
     "input": [
      "# Initialize the camera\n",
      "cam = Camera()\n",
      "cam.getProperty(\"height\"), cam.getProperty(\"width\")"
     ],
     "language": "python",
     "metadata": {},
     "outputs": [
      {
       "metadata": {},
       "output_type": "pyout",
       "prompt_number": 2,
       "text": [
        "(1024.0, 1280.0)"
       ]
      }
     ],
     "prompt_number": 2
    },
    {
     "cell_type": "markdown",
     "metadata": {},
     "source": [
      "Grabbing one frame:"
     ]
    },
    {
     "cell_type": "code",
     "collapsed": false,
     "input": [
      "img = cam.getImage()\n",
      "img.grayscale()"
     ],
     "language": "python",
     "metadata": {},
     "outputs": [
      {
       "metadata": {},
       "output_type": "pyout",
       "prompt_number": 3,
       "text": [
        "<SimpleCV.Image Object size:(1280, 1024), filename: (None), at memory location: (0x10c5e15f0)>"
       ]
      }
     ],
     "prompt_number": 3
    },
    {
     "cell_type": "markdown",
     "metadata": {},
     "source": [
      "or in a loop"
     ]
    },
    {
     "cell_type": "code",
     "collapsed": false,
     "input": [
      "#disp = Display()\n",
      "#while disp.isNotDone():\n",
      "#        img = cam.getImage()\n",
      "#if disp.mouseLeft:\n",
      "#                break\n",
      "#        img.show()\n",
      "#disp.quit()"
     ],
     "language": "python",
     "metadata": {},
     "outputs": [],
     "prompt_number": 4
    },
    {
     "cell_type": "code",
     "collapsed": false,
     "input": [
      "cam.getAllProperties()"
     ],
     "language": "python",
     "metadata": {},
     "outputs": [
      {
       "metadata": {},
       "output_type": "pyout",
       "prompt_number": 5,
       "text": [
        "{'brightness': 0.0,\n",
        " 'contrast': 0.0,\n",
        " 'exposure': 0.0,\n",
        " 'gain': 0.0,\n",
        " 'height': 1024.0,\n",
        " 'hue': 0.0,\n",
        " 'saturation': 0.0,\n",
        " 'width': 1280.0}"
       ]
      }
     ],
     "prompt_number": 5
    },
    {
     "cell_type": "heading",
     "level": 2,
     "metadata": {},
     "source": [
      "Interactive cam in a webserver"
     ]
    },
    {
     "cell_type": "code",
     "collapsed": false,
     "input": [
      "from SimpleCV import JpegStreamer\n",
      "#create JPEG streamers\n",
      "js = JpegStreamer(8080)"
     ],
     "language": "python",
     "metadata": {},
     "outputs": [],
     "prompt_number": 6
    },
    {
     "cell_type": "code",
     "collapsed": false,
     "input": [
      "from IPython.display import HTML\n",
      "HTML('<iframe src=http://localhost:8080></iframe>')"
     ],
     "language": "python",
     "metadata": {},
     "outputs": [
      {
       "html": [
        "<iframe src=http://localhost:8080></iframe>"
       ],
       "metadata": {},
       "output_type": "pyout",
       "prompt_number": 7,
       "text": [
        "<IPython.core.display.HTML at 0x10c5ee750>"
       ]
      }
     ],
     "prompt_number": 7
    },
    {
     "cell_type": "code",
     "collapsed": false,
     "input": [
      "if True:\n",
      "    # Get Image from camera\n",
      "    img = cam.getImage()\n",
      "    # Make image black and white\n",
      "    img = img.binarize()\n",
      "    # Draw the text \"Hello World\" on image\n",
      "    img.drawText(\"Hello World!\")\n",
      "    # Show the image\n",
      "    img.save(js)\n",
      "    HTML('<iframe src=http://localhost:8080 width=700 height=350></iframe>')"
     ],
     "language": "python",
     "metadata": {},
     "outputs": [
      {
       "output_type": "stream",
       "stream": "stdout",
       "text": [
        "----------------------------------------\n",
        "Exception happened during processing of request from ('127.0.0.1', 55547)\n",
        "----------------------------------------\n",
        "----------------------------------------\n",
        "Exception happened during processing of request from ('127.0.0.1', 55550)\n",
        "----------------------------------------\n"
       ]
      },
      {
       "output_type": "stream",
       "stream": "stderr",
       "text": [
        "127.0.0.1 - - [22/Jan/2014 09:33:05] \"GET / HTTP/1.1\" 200 -\n",
        "127.0.0.1 - - [22/Jan/2014 09:33:05] \"GET /stream HTTP/1.1\" 200 -\n",
        "Traceback (most recent call last):\n",
        "  File \"/usr/local/Cellar/python/2.7.6/Frameworks/Python.framework/Versions/2.7/lib/python2.7/SocketServer.py\", line 593, in process_request_thread\n",
        "    self.finish_request(request, client_address)\n",
        "  File \"/usr/local/Cellar/python/2.7.6/Frameworks/Python.framework/Versions/2.7/lib/python2.7/SocketServer.py\", line 334, in finish_request\n",
        "    self.RequestHandlerClass(request, client_address, self)\n",
        "  File \"/usr/local/Cellar/python/2.7.6/Frameworks/Python.framework/Versions/2.7/lib/python2.7/SocketServer.py\", line 649, in __init__\n",
        "    self.handle()\n",
        "  File \"/usr/local/Cellar/python/2.7.6/Frameworks/Python.framework/Versions/2.7/lib/python2.7/BaseHTTPServer.py\", line 340, in handle\n",
        "    self.handle_one_request()\n",
        "  File \"/usr/local/Cellar/python/2.7.6/Frameworks/Python.framework/Versions/2.7/lib/python2.7/BaseHTTPServer.py\", line 328, in handle_one_request\n",
        "    method()\n",
        "  File \"/usr/local/lib/python2.7/site-packages/SimpleCV/Stream.py\", line 58, in do_GET\n",
        "    self.send_header(\"Content-Length\", str(len(_jpegstreamers[port].jpgdata.getvalue())))\n",
        "AttributeError: JpegStreamer instance has no attribute 'jpgdata'\n",
        "127.0.0.1 - - [22/Jan/2014 09:33:05] \"GET /stream HTTP/1.1\" 200 -\n",
        "Traceback (most recent call last):\n",
        "  File \"/usr/local/Cellar/python/2.7.6/Frameworks/Python.framework/Versions/2.7/lib/python2.7/SocketServer.py\", line 593, in process_request_thread\n",
        "    self.finish_request(request, client_address)\n",
        "  File \"/usr/local/Cellar/python/2.7.6/Frameworks/Python.framework/Versions/2.7/lib/python2.7/SocketServer.py\", line 334, in finish_request\n",
        "    self.RequestHandlerClass(request, client_address, self)\n",
        "  File \"/usr/local/Cellar/python/2.7.6/Frameworks/Python.framework/Versions/2.7/lib/python2.7/SocketServer.py\", line 649, in __init__\n",
        "    self.handle()\n",
        "  File \"/usr/local/Cellar/python/2.7.6/Frameworks/Python.framework/Versions/2.7/lib/python2.7/BaseHTTPServer.py\", line 340, in handle\n",
        "    self.handle_one_request()\n",
        "  File \"/usr/local/Cellar/python/2.7.6/Frameworks/Python.framework/Versions/2.7/lib/python2.7/BaseHTTPServer.py\", line 328, in handle_one_request\n",
        "    method()\n",
        "  File \"/usr/local/lib/python2.7/site-packages/SimpleCV/Stream.py\", line 58, in do_GET\n",
        "    self.send_header(\"Content-Length\", str(len(_jpegstreamers[port].jpgdata.getvalue())))\n",
        "AttributeError: JpegStreamer instance has no attribute 'jpgdata'\n"
       ]
      }
     ],
     "prompt_number": 8
    },
    {
     "cell_type": "heading",
     "level": 2,
     "metadata": {},
     "source": [
      "Working in numpy"
     ]
    },
    {
     "cell_type": "code",
     "collapsed": false,
     "input": [
      "im = img.grayscale().getNumpy().mean(axis=2).T"
     ],
     "language": "python",
     "metadata": {},
     "outputs": [],
     "prompt_number": 9
    },
    {
     "cell_type": "code",
     "collapsed": false,
     "input": [
      "im.shape"
     ],
     "language": "python",
     "metadata": {},
     "outputs": [
      {
       "metadata": {},
       "output_type": "pyout",
       "prompt_number": 10,
       "text": [
        "(1024, 1280)"
       ]
      }
     ],
     "prompt_number": 10
    },
    {
     "cell_type": "code",
     "collapsed": false,
     "input": [
      "imshow(im, origin='upper')"
     ],
     "language": "python",
     "metadata": {},
     "outputs": [
      {
       "metadata": {},
       "output_type": "pyout",
       "prompt_number": 11,
       "text": [
        "<matplotlib.image.AxesImage at 0x10c7cbd90>"
       ]
      },
      {
       "metadata": {},
       "output_type": "display_data",
       "png": "[encoded data removed]",
       "text": [
        "<matplotlib.figure.Figure at 0x10c603c50>"
       ]
      }
     ],
     "prompt_number": 11
    },
    {
     "cell_type": "code",
     "collapsed": false,
     "input": [],
     "language": "python",
     "metadata": {},
     "outputs": []
    }
   ],
   "metadata": {}
  }
 ]
}